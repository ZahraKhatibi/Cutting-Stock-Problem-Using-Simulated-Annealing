{
 "cells": [
  {
   "cell_type": "markdown",
   "metadata": {},
   "source": [
    "## Zahra Khatibi - 610398119 - Cutting Stock Problem - Simulate Annealing - input 1"
   ]
  },
  {
   "cell_type": "code",
   "execution_count": 405,
   "metadata": {},
   "outputs": [],
   "source": [
    "stock_Length = 1000\n",
    "T = 10\n",
    "cost = 56"
   ]
  },
  {
   "cell_type": "code",
   "execution_count": 406,
   "metadata": {},
   "outputs": [],
   "source": [
    "f = open(\"input1.stock\")\n",
    "m = f.read()\n",
    "m = m.split(\"\\n\")\n",
    "requests = m[3]\n",
    "requests = requests.split(\",\")\n",
    "requests = [int(i) for i in requests]"
   ]
  },
  {
   "cell_type": "code",
   "execution_count": 407,
   "metadata": {},
   "outputs": [],
   "source": [
    "n = len(requests)"
   ]
  },
  {
   "cell_type": "code",
   "execution_count": 408,
   "metadata": {},
   "outputs": [],
   "source": [
    "import more_itertools as mit\n",
    "def population():\n",
    "     return (list(mit.random_permutation(range(n))))"
   ]
  },
  {
   "cell_type": "code",
   "execution_count": 409,
   "metadata": {},
   "outputs": [],
   "source": [
    "def fitness(population):\n",
    "    size = 0\n",
    "    rolls = 1\n",
    "    for i in range(n):\n",
    "        if(size + requests[population[i]] <= stock_Length):\n",
    "            size += requests[population[i]]\n",
    "        else:        \n",
    "            rolls += 1\n",
    "            size = 0\n",
    "            size += requests[population[i]]    \n",
    "    return rolls       "
   ]
  },
  {
   "cell_type": "code",
   "execution_count": 410,
   "metadata": {},
   "outputs": [],
   "source": [
    "from random import randint\n",
    "import numpy as np\n",
    "def neighboor_maker(population):\n",
    "    neighbors = []\n",
    "    fit_ness = []\n",
    "    for j in range(100):\n",
    "        neighbor = population.copy()\n",
    "        X = randint(0, n-1)\n",
    "        Y = randint(0, n-1)\n",
    "        neighbor[Y], neighbor[X]= neighbor[X], neighbor[Y]\n",
    "        neighbors.append(neighbor)\n",
    "        fit_ness.append(fitness(neighbor))\n",
    "\n",
    "    ind = fit_ness.index((min(fit_ness)))\n",
    "    return neighbors[ind]"
   ]
  },
  {
   "cell_type": "code",
   "execution_count": 411,
   "metadata": {},
   "outputs": [],
   "source": [
    "import numpy as np\n",
    "def prob_maker(delta_fitness,T):\n",
    "    p = np.exp(-delta_fitness/T)\n",
    "    q = random.uniform(0, 1)\n",
    "    if p>q:\n",
    "        return True\n",
    "    return False"
   ]
  },
  {
   "cell_type": "code",
   "execution_count": 412,
   "metadata": {},
   "outputs": [
    {
     "name": "stdout",
     "output_type": "stream",
     "text": [
      "5 1 52 10 135 94 102 86 38 49 84 18 134 82 93 90 104 137 67 50 88 27 36 69 96 85 112 4 14 117 51 56 100 119 129 60 24 34 53 111 115 65 61 64 103 43 33 75 132 66 19 105 59 110 73 92 72 125 21 79 126 25 13 95 39 83 106 101 41 54 55 47 57 62 89 6 81 11 9 121 70 74 71 124 15 23 128 91 120 139 58 63 78 99 127 32 97 123 35 29 16 136 108 107 131 37 8 17 22 48 87 46 12 68 133 138 98 28 116 31 45 20 76 30 7 40 80 3 109 122 77 113 130 26 2 114 0 118 44 42\n",
      "57\n",
      "\n",
      "\n",
      "-------------\n",
      "\n",
      "\n",
      "5 1 52 10 135 94 118 86 38 49 84 18 134 82 93 90 104 137 67 50 88 27 36 69 96 85 112 4 14 117 51 56 100 119 129 60 24 34 53 111 115 65 61 64 103 43 33 75 132 66 19 105 59 110 73 92 72 125 21 79 126 25 13 95 39 83 106 101 41 54 55 47 57 62 89 6 81 11 9 121 70 74 71 124 15 23 128 91 120 139 58 63 78 99 127 32 97 123 35 29 16 136 108 107 131 37 8 17 22 48 87 46 12 68 133 138 98 28 116 31 45 20 76 30 7 40 80 3 109 122 77 113 130 26 2 114 0 102 44 42\n",
      "56\n",
      "\n",
      "\n",
      "-------------\n",
      "\n",
      "\n",
      "5 1 52 10 135 94 118 86 38 49 84 18 134 82 93 90 104 137 67 50 88 27 36 69 96 85 112 4 14 117 51 56 100 119 129 60 24 34 53 111 115 65 61 64 103 43 33 75 132 66 19 105 59 110 73 92 72 125 21 79 126 25 13 95 39 83 106 101 41 54 55 47 57 62 89 127 81 11 9 121 70 74 71 124 15 23 128 91 120 139 58 63 78 99 6 32 97 123 35 29 16 136 108 107 131 37 8 17 22 48 87 46 12 68 133 138 98 28 116 31 45 20 76 30 7 40 80 3 109 122 77 113 130 26 2 114 0 102 44 42\n",
      "56\n",
      "\n",
      "\n",
      "-------------\n",
      "\n",
      "\n",
      "5 1 52 10 135 94 118 86 38 49 84 18 134 82 93 90 104 137 67 50 88 27 36 69 96 85 112 4 14 117 51 56 100 119 12 60 24 34 53 111 115 65 61 64 103 43 33 75 132 66 19 105 59 110 73 92 72 125 21 79 126 25 13 95 39 83 106 101 41 54 55 47 57 62 89 127 81 11 9 121 70 74 71 124 15 23 128 91 120 139 58 63 78 99 6 32 97 123 35 29 16 136 108 107 131 37 8 17 22 48 87 46 129 68 133 138 98 28 116 31 45 20 76 30 7 40 80 3 109 122 77 113 130 26 2 114 0 102 44 42\n",
      "56\n",
      "\n",
      "\n",
      "-------------\n",
      "\n",
      "\n",
      "5 1 132 10 135 94 118 86 38 49 84 18 134 82 93 90 104 137 67 50 88 27 36 69 96 85 112 4 14 117 51 56 100 119 12 60 24 34 53 111 115 65 61 64 103 43 33 75 52 66 19 105 59 110 73 92 72 125 21 79 126 25 13 95 39 83 106 101 41 54 55 47 57 62 89 127 81 11 9 121 70 74 71 124 15 23 128 91 120 139 58 63 78 99 6 32 97 123 35 29 16 136 108 107 131 37 8 17 22 48 87 46 129 68 133 138 98 28 116 31 45 20 76 30 7 40 80 3 109 122 77 113 130 26 2 114 0 102 44 42\n",
      "55\n",
      "\n",
      "\n",
      "-------------\n",
      "\n",
      "\n"
     ]
    }
   ],
   "source": [
    "import random\n",
    "pop = population()\n",
    "while(fitness(pop) >= cost):\n",
    "    new_pop = neighboor_maker(pop)\n",
    "    if (fitness(new_pop)<=fitness(pop)):\n",
    "        pop = new_pop\n",
    "    else:\n",
    "        if(prob_maker(fitness(new_pop)-fitness(pop)),T):\n",
    "            pop = new_pop\n",
    "    T *= 0.77\n",
    "    if(fitness(pop)<=57):\n",
    "        print(*pop)\n",
    "        print(fitness(pop))\n",
    "        print(\"\\n\")\n",
    "        print(\"-------------\")\n",
    "        print(\"\\n\")"
   ]
  },
  {
   "cell_type": "code",
   "execution_count": 413,
   "metadata": {},
   "outputs": [
    {
     "name": "stdout",
     "output_type": "stream",
     "text": [
      "rolls count:  55 \n",
      "\n",
      "18 187 149 609 460 148 224 678 333 292 232 106 365 268 92 549 70 266 753 60 171 805 69 518 301 788 119 33 312 43 125 181 868 506 346 933 672 409 405 351 186 337 23 246 211 251 266 463 532 648 248 75 424 368 370 356 315 53 115 412 80 618 295 515 88 123 145 92 967 170 249 555 686 99 557 437 118 627 495 501 45 557 286 241 107 218 46 286 592 86 283 135 61 660 402 557 632 79 144 753 716 280 278 125 525 116 507 88 106 988 371 581 78 354 126 109 987 306 517 84 788 689 312 414 230 264 457 106 441 149 284 662 149 117 914 653 106 544 71 180 "
     ]
    }
   ],
   "source": [
    "best_solution = pop\n",
    "print(\"rolls count: \" , fitness(pop),\"\\n\")\n",
    "for i in range(n):\n",
    "    print(requests[pop[i]],end = \" \")"
   ]
  },
  {
   "cell_type": "code",
   "execution_count": 424,
   "metadata": {},
   "outputs": [
    {
     "name": "stdout",
     "output_type": "stream",
     "text": [
      "Stock 1: 18 187 149 609 \n",
      "\n",
      "Stock 2 : 460 148 224 \n",
      "\n",
      "Stock 3 : 678 \n",
      "\n",
      "Stock 4 : 333 292 232 106 \n",
      "\n",
      "Stock 5 : 365 268 92 \n",
      "\n",
      "Stock 6 : 549 70 266 \n",
      "\n",
      "Stock 7 : 753 60 171 \n",
      "\n",
      "Stock 8 : 805 69 \n",
      "\n",
      "Stock 9 : 518 301 \n",
      "\n",
      "Stock 10 : 788 119 33 \n",
      "\n",
      "Stock 11 : 312 43 125 181 \n",
      "\n",
      "Stock 12 : 868 \n",
      "\n",
      "Stock 13 : 506 346 \n",
      "\n",
      "Stock 14 : 933 \n",
      "\n",
      "Stock 15 : 672 \n",
      "\n",
      "Stock 16 : 409 405 \n",
      "\n",
      "Stock 17 : 351 186 337 23 \n",
      "\n",
      "Stock 18 : 246 211 251 266 \n",
      "\n",
      "Stock 19 : 463 532 \n",
      "\n",
      "Stock 20 : 648 248 75 \n",
      "\n",
      "Stock 21 : 424 368 \n",
      "\n",
      "Stock 22 : 370 356 \n",
      "\n",
      "Stock 23 : 315 53 115 412 80 \n",
      "\n",
      "Stock 24 : 618 295 \n",
      "\n",
      "Stock 25 : 515 88 123 145 92 \n",
      "\n",
      "Stock 26 : 967 \n",
      "\n",
      "Stock 27 : 170 249 555 \n",
      "\n",
      "Stock 28 : 686 99 \n",
      "\n",
      "Stock 29 : 557 437 \n",
      "\n",
      "Stock 30 : 118 627 \n",
      "\n",
      "Stock 31 : 495 501 \n",
      "\n",
      "Stock 32 : 45 557 286 \n",
      "\n",
      "Stock 33 : 241 107 218 46 286 \n",
      "\n",
      "Stock 34 : 592 86 283 \n",
      "\n",
      "Stock 35 : 135 61 660 \n",
      "\n",
      "Stock 36 : 402 557 \n",
      "\n",
      "Stock 37 : 632 79 144 \n",
      "\n",
      "Stock 38 : 753 \n",
      "\n",
      "Stock 39 : 716 280 \n",
      "\n",
      "Stock 40 : 278 125 525 \n",
      "\n",
      "Stock 41 : 116 507 88 106 \n",
      "\n",
      "Stock 42 : 988 \n",
      "\n",
      "Stock 43 : 371 581 \n",
      "\n",
      "Stock 44 : 78 354 126 109 \n",
      "\n",
      "Stock 45 : 987 \n",
      "\n",
      "Stock 46 : 306 517 84 \n",
      "\n",
      "Stock 47 : 788 \n",
      "\n",
      "Stock 48 : 689 \n",
      "\n",
      "Stock 49 : 312 414 230 \n",
      "\n",
      "Stock 50 : 264 457 106 \n",
      "\n",
      "Stock 51 : 441 149 284 \n",
      "\n",
      "Stock 52 : 662 149 117 \n",
      "\n",
      "Stock 53 : 914 \n",
      "\n",
      "Stock 54 : 653 106 \n",
      "\n",
      "Stock 55 : 544 71 180 "
     ]
    }
   ],
   "source": [
    "size = 0\n",
    "rolls = 1\n",
    "print(\"Stock 1:\", end = \" \")\n",
    "for i in range(n):\n",
    "    if(size + requests[pop[i]] <= stock_Length):\n",
    "        size += requests[pop[i]]\n",
    "        print( requests[pop[i]] , end=\" \" )\n",
    "    else:\n",
    "        print(\"\\n\")\n",
    "        rolls += 1\n",
    "        print(\"Stock \" + str(rolls) + \" :\" , end= \" \")\n",
    "        size = 0\n",
    "        size += requests[pop[i]]\n",
    "        print( requests[pop[i]] , end=\" \" )"
   ]
  },
  {
   "cell_type": "code",
   "execution_count": null,
   "metadata": {},
   "outputs": [],
   "source": []
  }
 ],
 "metadata": {
  "kernelspec": {
   "display_name": "Python 3",
   "language": "python",
   "name": "python3"
  },
  "language_info": {
   "codemirror_mode": {
    "name": "ipython",
    "version": 3
   },
   "file_extension": ".py",
   "mimetype": "text/x-python",
   "name": "python",
   "nbconvert_exporter": "python",
   "pygments_lexer": "ipython3",
   "version": "3.8.3"
  }
 },
 "nbformat": 4,
 "nbformat_minor": 4
}
